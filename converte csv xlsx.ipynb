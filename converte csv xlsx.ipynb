{
 "cells": [
  {
   "cell_type": "code",
   "execution_count": 1,
   "id": "993e8857-5968-438b-9a79-a1aaed5b590c",
   "metadata": {},
   "outputs": [],
   "source": [
    "# Passo 1: Importar a biblioteca Pandas\n",
    "import pandas as pd"
   ]
  },
  {
   "cell_type": "code",
   "execution_count": 2,
   "id": "6b2e9107-8cb1-416d-ac5a-3ca9bc77c5f3",
   "metadata": {},
   "outputs": [],
   "source": [
    "df = pd.read_csv(\"apostas_transpostas.csv\")"
   ]
  },
  {
   "cell_type": "code",
   "execution_count": 5,
   "id": "30c33201-bb85-4dc3-ac15-10d0e6e68f46",
   "metadata": {},
   "outputs": [],
   "source": [
    "df.to_excel(\"apostas_transpostas.xlsx\", index=False)"
   ]
  },
  {
   "cell_type": "code",
   "execution_count": null,
   "id": "17003d9b-608d-40be-bbe3-5da48845e0df",
   "metadata": {},
   "outputs": [],
   "source": []
  }
 ],
 "metadata": {
  "kernelspec": {
   "display_name": "Python [conda env:base] *",
   "language": "python",
   "name": "conda-base-py"
  },
  "language_info": {
   "codemirror_mode": {
    "name": "ipython",
    "version": 3
   },
   "file_extension": ".py",
   "mimetype": "text/x-python",
   "name": "python",
   "nbconvert_exporter": "python",
   "pygments_lexer": "ipython3",
   "version": "3.12.7"
  }
 },
 "nbformat": 4,
 "nbformat_minor": 5
}
